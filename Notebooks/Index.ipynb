{
 "cells": [
  {
   "cell_type": "markdown",
   "metadata": {
    "slideshow": {
     "slide_type": "slide"
    }
   },
   "source": [
    "# Lily Bhattacharjee"
   ]
  },
  {
   "cell_type": "markdown",
   "metadata": {
    "slideshow": {
     "slide_type": "subslide"
    }
   },
   "source": [
    "## Who Am I?\n",
    "- Student at UC Berkeley (Electrical Engineering and Computer Science, Class of 2021)"
   ]
  },
  {
   "cell_type": "markdown",
   "metadata": {
    "slideshow": {
     "slide_type": "subslide"
    }
   },
   "source": [
    "## Classes\n",
    "- CS 61A (<i>The Structure and Interpretation of Computer Programs</i>)\n",
    "- EE 16A (<i>Designing Information Devices and Systems I</i>)\n",
    "- Math 53 (<i>Multivariable Calculus</i>)\n",
    "- CS 61B (<i>Data Structures</i>)\n",
    "- EE 16B (<i>Designing Information Devices and Systems II</i>)\n",
    "- DS 100 (<i>Principles and Techniques of Data Science</i>)"
   ]
  },
  {
   "cell_type": "markdown",
   "metadata": {
    "slideshow": {
     "slide_type": "subslide"
    }
   },
   "source": [
    "## Experience\n",
    "- Academic Intern (CS 61A, Spring '18)\n",
    "- Reader (EE 16A, Spring '18)"
   ]
  },
  {
   "cell_type": "markdown",
   "metadata": {
    "slideshow": {
     "slide_type": "subslide"
    }
   },
   "source": [
    "## Resources\n",
    "- [CS 61A](/Html/CS61A.html)\n",
    "- [CS 61B](/Html/CS61B.html)\n",
    "- [DS 100](/Html/DS100.html)"
   ]
  }
 ],
 "metadata": {
  "celltoolbar": "Slideshow",
  "kernelspec": {
   "display_name": "Python 3",
   "language": "python",
   "name": "python3"
  },
  "language_info": {
   "codemirror_mode": {
    "name": "ipython",
    "version": 3
   },
   "file_extension": ".py",
   "mimetype": "text/x-python",
   "name": "python",
   "nbconvert_exporter": "python",
   "pygments_lexer": "ipython3",
   "version": "3.6.3"
  }
 },
 "nbformat": 4,
 "nbformat_minor": 1
}
