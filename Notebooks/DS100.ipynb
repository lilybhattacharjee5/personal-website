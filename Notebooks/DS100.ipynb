{
 "cells": [
  {
   "cell_type": "markdown",
   "metadata": {},
   "source": [
    "# DS 100: Principles and Techniques of Data Science"
   ]
  },
  {
   "cell_type": "markdown",
   "metadata": {
    "collapsed": true
   },
   "source": [
    "Resources coming soon!\n",
    "\n",
    "If you are a prospective employer / recruiter and want to look through my code for the homeworks / projects, please contact me directly at lbhattacharjee@berkeley.edu.\n",
    "\n",
    "## Relevant Assignments\n",
    "- <b>HW 4</b>: SQL, FEC Data, and Small Donors -- used a group of Postgre SQL servers to explore the money exchanged during the 2016 election using the Federal Election Commission's public records\n",
    "- <b>HW 5</b>: Modeling, Estimation and Gradient Descent -- reasoned about a model, intuitively explored loss functions and their behavior, derived the gradient of a loss with respect to model parameters, worked through a basic form of gradient descent\n",
    "- <b>HW 6</b>: Predicting Housing Prices -- developed and regularized a linear model to predict house prices from assessed values for individual residential properties sold in Ames, Iowa from 2006 to 2010 [on Kaggle]\n",
    "- <b>Project 1</b>: Trump, Twitter, and Text -- worked with the Twitter API in order to analyze Donald Trump's tweets\n",
    "- <b>Project 2</b>: Spam // Ham Prediction -- created a classifier that can distinguish spam (junk or commercial or bulk) emails from ham (non-spam) emails"
   ]
  }
 ],
 "metadata": {
  "kernelspec": {
   "display_name": "Python 3",
   "language": "python",
   "name": "python3"
  },
  "language_info": {
   "codemirror_mode": {
    "name": "ipython",
    "version": 3
   },
   "file_extension": ".py",
   "mimetype": "text/x-python",
   "name": "python",
   "nbconvert_exporter": "python",
   "pygments_lexer": "ipython3",
   "version": "3.6.3"
  }
 },
 "nbformat": 4,
 "nbformat_minor": 2
}
